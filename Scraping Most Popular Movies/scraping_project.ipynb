{
 "cells": [
  {
   "cell_type": "code",
   "execution_count": 101,
   "metadata": {
    "ExecuteTime": {
     "end_time": "2020-10-19T22:58:41.594723Z",
     "start_time": "2020-10-19T22:58:41.591700Z"
    }
   },
   "outputs": [],
   "source": [
    "import requests\n",
    "from bs4 import BeautifulSoup"
   ]
  },
  {
   "cell_type": "code",
   "execution_count": 102,
   "metadata": {
    "ExecuteTime": {
     "end_time": "2020-10-19T22:58:43.558574Z",
     "start_time": "2020-10-19T22:58:43.555580Z"
    }
   },
   "outputs": [],
   "source": [
    "# Minha página para executar o scraping será o IMDb, filmes de animação\n",
    "url1 = 'https://www.imdb.com/search/title/?title_type=feature&num_votes=25000,&genres=animation&sort=user_rating,desc'\n",
    "url2 = 'https://www.imdb.com/search/title/?title_type=feature&num_votes=25000,&genres=animation&sort=user_rating,desc&start=51&ref_=adv_nxt'\n",
    "url3 = 'https://www.imdb.com/search/title/?title_type=feature&num_votes=25000,&genres=animation&sort=user_rating,desc&start=101&ref_=adv_nxt'\n",
    "url4 = 'https://www.imdb.com/search/title/?title_type=feature&num_votes=25000,&genres=animation&sort=user_rating,desc&start=151&ref_=adv_nxt'\n",
    "url5 = 'https://www.imdb.com/search/title/?title_type=feature&num_votes=25000,&genres=animation&sort=user_rating,desc&start=201&ref_=adv_nxt'\n",
    "url6 = 'https://www.imdb.com/search/title/?title_type=feature&num_votes=25000,&genres=animation&sort=user_rating,desc&start=251&ref_=adv_nxt'"
   ]
  },
  {
   "cell_type": "code",
   "execution_count": 103,
   "metadata": {
    "ExecuteTime": {
     "end_time": "2020-10-19T22:58:57.137974Z",
     "start_time": "2020-10-19T22:58:45.455730Z"
    }
   },
   "outputs": [
    {
     "data": {
      "text/plain": [
       "<Response [200]>"
      ]
     },
     "execution_count": 103,
     "metadata": {},
     "output_type": "execute_result"
    }
   ],
   "source": [
    "# download das páginas\n",
    "response1 = requests.get(url1)\n",
    "response2 = requests.get(url2)\n",
    "response3 = requests.get(url3)\n",
    "response4 = requests.get(url4)\n",
    "response5 = requests.get(url5)\n",
    "response6 = requests.get(url6)\n",
    "response1\n",
    "response2\n",
    "response3\n",
    "response4\n",
    "response5\n",
    "response6"
   ]
  },
  {
   "cell_type": "code",
   "execution_count": 104,
   "metadata": {
    "ExecuteTime": {
     "end_time": "2020-10-19T22:58:58.805235Z",
     "start_time": "2020-10-19T22:58:58.800249Z"
    }
   },
   "outputs": [],
   "source": [
    "#response content\n",
    "html1 = response1.content\n",
    "html2 = response2.content\n",
    "html3 = response3.content\n",
    "html4 = response4.content\n",
    "html5 = response5.content\n",
    "html6 = response6.content"
   ]
  },
  {
   "cell_type": "code",
   "execution_count": 105,
   "metadata": {
    "ExecuteTime": {
     "end_time": "2020-10-19T22:59:01.588345Z",
     "start_time": "2020-10-19T22:59:00.370854Z"
    },
    "code_folding": []
   },
   "outputs": [],
   "source": [
    "# convertendo para uma sopa\n",
    "soup1 = BeautifulSoup (html1)\n",
    "soup2 = BeautifulSoup (html2)\n",
    "soup3 = BeautifulSoup (html3)\n",
    "soup4 = BeautifulSoup (html4)\n",
    "soup5 = BeautifulSoup (html5)\n",
    "soup6 = BeautifulSoup (html6)"
   ]
  },
  {
   "cell_type": "code",
   "execution_count": 106,
   "metadata": {
    "ExecuteTime": {
     "end_time": "2020-10-19T22:59:03.219498Z",
     "start_time": "2020-10-19T22:59:03.066024Z"
    },
    "code_folding": []
   },
   "outputs": [],
   "source": [
    "#buscando as primeiras tags dentro do HTML\n",
    "title1 = soup1.find_all('h3', attrs={'class':'lister-item-header'})\n",
    "title2 = soup2.find_all('h3', attrs={'class':'lister-item-header'})\n",
    "title3 = soup3.find_all('h3', attrs={'class':'lister-item-header'})\n",
    "title4 = soup4.find_all('h3', attrs={'class':'lister-item-header'})\n",
    "title5 = soup5.find_all('h3', attrs={'class':'lister-item-header'})\n",
    "title6 = soup6.find_all('h3', attrs={'class':'lister-item-header'})"
   ]
  },
  {
   "cell_type": "code",
   "execution_count": 107,
   "metadata": {
    "ExecuteTime": {
     "end_time": "2020-10-19T22:59:04.996628Z",
     "start_time": "2020-10-19T22:59:04.991642Z"
    }
   },
   "outputs": [],
   "source": [
    "import re"
   ]
  },
  {
   "cell_type": "code",
   "execution_count": 108,
   "metadata": {
    "ExecuteTime": {
     "end_time": "2020-10-19T22:59:06.741733Z",
     "start_time": "2020-10-19T22:59:06.728771Z"
    },
    "code_folding": []
   },
   "outputs": [
    {
     "name": "stdout",
     "output_type": "stream",
     "text": [
      "['1.A Viagem de Chihiro(2001)', '2.O Rei Leão(1994)', '3.Túmulo dos Vagalumes(1988)', '4.Your Name.(2016)', '5.Homem-Aranha no Aranhaverso(2018)', '6.Viva: A Vida é uma Festa(I) (2017)', '7.WALL·E(2008)', '8.Princesa Mononoke(1997)', '9.Toy Story 3(2010)', '10.Toy Story(1995)', '11.Klaus(2019)', '12.Up: Altas Aventuras(2009)', '13.O Castelo Animado(2004)', '14.Meu Amigo Totoro(1988)', '15.A Voz do Silêncio(2016)', '16.Crianças Lobo(2012)', '17.Divertida Mente(I) (2015)', '18.A Canção do Oceano(2014)', '19.Mary e Max: Uma Amizade Diferente(2009)', '20.Como Treinar o Seu Dragão(2010)', '21.Procurando Nemo(2003)', '22.Neon Genesis Evangelion: O Fim do Evangelho(1997)', '23.Nausicaä do Vale do Vento(1984)', '24.Zootopia(2016)', '25.O Conto da Princesa Kaguya(2013)', '26.Persépolis(2007)', '27.Ratatouille(2007)', '28.Os Incríveis(2004)', '29.Monstros S.A.(2001)', '30.Perfect Blue(1997)', '31.O Gigante de Ferro(1999)', '32.O Fantasma do Futuro(1995)', '33.O Estranho Mundo de Jack(1993)', '34.Aladdin(1992)', '35.A Bela e a Fera(1991)', '36.Akira(1988)', '37.O Castelo no Céu(1986)', '38.Ilha dos Cachorros(2018)', '39.O Fantástico Sr. Raposo(2009)', '40.Cowboy Bebop: O Filme(2001)', '41.Toy Story 2(1999)', '42.Sussurros do Coração(1995)', '43.Ninja Scroll(1993)', '44.Kubo e as Cordas Mágicas(2016)', '45.Com Amor, Van Gogh(2017)', '46.Operação Big Hero(2014)', '47.Vidas ao Vento(2013)', '48.Toy Story 4(2019)', '49.Como Treinar o Seu Dragão 2(2014)', '50.Padrinhos de Tóquio(2003)']\n",
      "['51.As Bicicletas de Belleville(2003)', '52.Acordar para a Vida(2001)', '53.Shrek(2001)', '54.Batman: A Máscara do Fantasma(1993)', '55.O Serviço de Entregas da Kiki(1989)', '56.As Memórias de Marnie(2014)', '57.Detona Ralph(2012)', '58.O Pequeno Príncipe(2015)', '59.Uma Aventura Lego(2014)', '60.Ponyo: Uma Amizade que Veio do Mar(2008)', '61.Paprika(2006)', '62.A Garota que Conquistou o Tempo(2006)', '63.Enrolados(2010)', '64.Coraline e o Mundo Secreto(2009)', '65.Vampire Hunter D: Bloodlust(2000)', '66.South Park: Maior, Melhor e Sem Cortes(1999)', '67.Porco Rosso: O Último Herói Romântico(1992)', '68.Uma Cilada para Roger Rabbit(1988)', '69.O Castelo de Cagliostro(1979)', '70.Fantasia(1940)', '71.Os Incríveis 2(2018)', '72.Moana: Um Mar de Aventuras(I) (2016)', '73.O Mundo dos Pequeninos(2010)', '74.Meu Malvado Favorito(2010)', '75.Cinco Centímetros por Segundo(2007)', '76.Uma Viagem ao Mundo das Fábulas(2009)', '77.Mulan(1998)', '78.Memórias de Ontem(1991)', '79.A Pequena Sereia(1989)', '80.A Ratinha Valente(1982)', '81.Uma Grande Aventura(1978)', '82.As Aventuras do Ursinho Puff(1977)', '83.Robin Hood(1973)', '84.Mogli, o Menino Lobo(1967)', '85.Branca de Neve e os Sete Anões(1937)', '86.A Tartaruga Vermelha(2016)', '87.O Jardim das Palavras(2013)', '88.Como Treinar o Seu Dragão 3(2019)', '89.Guerras de Verão(2009)', '90.O Mágico(2010)', '91.Kung Fu Panda(2008)', '92.O Fantasma do Futuro 2: A Inocência(2004)', '93.A Era do Gelo(2002)', '94.Dois Irmãos: Uma Jornada Fantástica(I) (2020)', '95.Frozen: Uma Aventura Congelante(I) (2013)', '96.Da Colina Kokuriko(2011)', '97.Wallace & Gromit: A Batalha dos Vegetais(2005)', '98.Em Busca do Vale Encantado(1988)', '99.Alice no País das Maravilhas(1951)', '100.Pinóquio(1940)']\n",
      "['101.Lego Batman: O Filme(2017)', '102.Shaun, o Carneiro: O Filme(2015)', '103.Anomalisa(2015)', '104.Procurando Dory(2016)', '105.Festa no Céu(2014)', '106.Meu Malvado Favorito 2(2013)', '107.Universidade Monstros(2013)', '108.A Origem dos Guardiões(2012)', '109.As Aventuras de Tintim(2011)', '110.Os Simpsons: O Filme(2007)', '111.A Noiva Cadáver(2005)', '112.A Nova Onda do Imperador(2000)', '113.Tarzan(1999)', '114.Hércules(1997)', '115.Transformers: O Filme(1986)', '116.O Cão e a Raposa(1981)', '117.A Dama e o Vagabundo(1955)', '118.As Aventuras de Peter Pan(1953)', '119.Cinderela(1950)', '120.Bambi(1942)', '121.Dragon Ball Z: A Batalha dos Deuses(2013)', '122.Kung Fu Panda 2(2011)', '123.Rango(2011)', '124.Megamente(2010)', '125.Os Croods(2013)', '126.Final Fantasy VII - Advent Children(2005)', '127.O Reino dos Gatos(2002)', '128.Shrek 2(2004)', '129.Lilo & Stitch(2002)', '130.Planeta do Tesouro(2002)', '131.Fantasia 2000(1999)', '132.Vida de Inseto(1998)', '133.Anastasia(1997)', '134.As Peripécias do Ratinho Detetive(1986)', '135.A Espada Era a Lei(1963)', '136.101 Dálmatas(1961)', '137.A Bela Adormecida(1959)', '138.Dumbo(1941)', '139.WiFi Ralph: Quebrando a Internet(2018)', '140.Sing: Quem Canta Seus Males Espanta(2016)', '141.Snoopy & Charlie Brown: Peanuts, o Filme(2015)', '142.Kung Fu Panda 3(2016)', '143.Operação Presente(2011)', '144.Valente(2012)', '145.Hotel Transilvânia(2012)', '146.A Princesa e o Sapo(2009)', '147.9: A Salvação(I) (2009)', '148.O Homem Duplo(2006)', '149.Bob Esponja: O Filme(2004)', '150.Carros(2006)']\n",
      "['151.Spirit: O Corcel Indomável(2002)', '152.O Príncipe do Egito(1998)', '153.Balto(1995)', '154.Se Minha Cama Voasse(1971)', '155.Aristogatas(1970)', '156.Abominável(2019)', '157.ParaNorman(2012)', '158.Encantada(2007)', '159.A Fuga das Galinhas(2000)', '160.O Rei Leão(2019)', '161.Frozen II(2019)', '162.Rio(2011)', '163.A Lenda dos Guardiões(2010)', '164.Frankenweenie(2012)', '165.A Era do Gelo 3(2009)', '166.Tá Chovendo Hambúrguer(2009)', '167.Madagascar(2005)', '168.Atlantis: O Reino Perdido(2001)', '169.O Caminho Para El Dorado(2000)', '170.O Corcunda de Notre Dame(1996)', '171.Bernardo e Bianca na Terra dos Cangurus(1990)', '172.Um Conto Americano(1986)', '173.Bernardo e Bianca(1977)', '174.Um Espião Animal(2019)', '175.Cegonhas(2016)', '176.Madagascar 3: Os Procurados(2012)', '177.Os Fantasmas de Scrooge(2009)', '178.As Aventuras de Peabody & Sherman(2014)', '179.Os Boxtrolls(2014)', '180.Horton e o Mundo dos Quem!(2008)', '181.A Era do Gelo 2(2006)', '182.Bolt: Supercão(2008)', '183.A Família do Futuro(2007)', '184.Irmão Urso(2003)', '185.Beavis e Butt-Head Detonam a América(1996)', '186.Pateta: O Filme(1995)', '187.Todos os Cães Merecem o Céu(1989)', '188.Carros 3(2017)', '189.O Touro Ferdinando(2017)', '190.Hotel Transilvânia 2(2015)', '191.O Bom Dinossauro(2015)', '192.Os Pinguins de Madagascar(2014)', '193.Piratas Pirados!(2012)', '194.Reino Escondido(2013)', '195.Tá Dando Onda(2007)', '196.Os Sem-Floresta(2006)', '197.Sinbad: A Lenda dos Sete Mares(2003)', '198.James e o Pêssego Gigante(1996)', '199.Pocahontas(I) (1995)', '200.Oliver e sua Turma(1988)']\n",
      "['201.Heavy Metal - Universo em Fantasia(1981)', '202.PéPequeno(2018)', '203.Uma Aventura Lego 2(2019)', '204.Cada Um na Sua Casa(II) (2015)', '205.A Era do Gelo 4(2012)', '206.Madagascar 2: A Grande Escapada(2008)', '207.Gato de Botas(2011)', '208.Por Água Abaixo(2006)', '209.A Casa Monstro(2006)', '210.O Expresso Polar(2004)', '211.Titan A.E.(2000)', '212.Pets: A Vida Secreta dos Bichos 2(2019)', '213.Pets: A Vida Secreta dos Bichos(2016)', '214.Trolls(2016)', '215.Resident Evil: Degeneração(2008)', '216.Dinossauro(2000)', '217.Formiguinhaz(1998)', '218.FernGully: As Aventuras de Zak e Crysta na Floresta Tropical(1992)', '219.Batman: A Piada Mortal(2016)', '220.Minions(2015)', '221.Tá Chovendo Hambúrguer 2(2013)', '222.Turbo(2013)', '223.O Lorax, em Busca da Trúfula Perdida(2012)', '224.Monstros vs. Alienígenas(2009)', '225.Contos de Terramar(2006)', '226.Deu a Louca na Chapeuzinho(2005)', '227.Happy Feet: O Pinguim(2006)', '228.Final Fantasy(2001)', '229.Space Jam: O Jogo do Século(1996)', '230.O Caldeirão Mágico(1985)', '231.Hotel Transilvânia 3: Férias Monstruosas(2018)', '232.O Poderoso Chefinho(2017)', '233.Meu Malvado Favorito 3(2017)', '234.O Grinch(2018)', '235.Rio 2(2014)', '236.Angry Birds: O Filme(2016)', '237.Shrek para Sempre(2010)', '238.A Menina e o Porquinho(2006)', '239.Astro Boy(2009)', '240.Robôs(2005)', '241.Pokémon: O Filme - Mewtwo Contra-Ataca(1998)', '242.Osmose Jones(2001)', '243.As Tartarugas Ninja: O Retorno(2007)', '244.A Lenda de Beowulf(2007)', '245.O Senhor dos Anéis(1978)', '246.Festa da Salsicha(2016)', '247.Carros 2(2011)', '248.O Corajoso Ratinho Despereaux(2008)', '249.Shrek Terceiro(2007)', '250.O Bicho Vai Pegar(2006)']\n",
      "['251.Bee Movie: A História de uma Abelha(2007)', \"252.Bob Esponja: Um Herói Fora d'Água(2015)\", '253.Planeta 51(2009)', '254.Arthur e os Minimoys(2006)', '255.O Espanta Tubarões(2004)', '256.Jimmy Neutron, o Menino Gênio(2001)', '257.Happy Feet 2: O Pinguim(2011)', '258.Star Wars: A Guerra dos Clones(2008)', '259.Gnomeu e Julieta(2011)', '260.A Família Addams(2019)', '261.Lucas, um Intruso no Formigueiro(2006)', '262.A Era do Gelo: O Big Bang(2016)', '263.O Que Será de Nozes?(I) (2014)', '264.Aviões(2013)', '265.O Galinho Chicken Little(2005)', '266.Looney Tunes: De Volta à Ação(2003)', '267.O Segredo dos Animais(2006)', '268.O Pequeno Stuart Little 2(2002)', '269.Hop: Rebelde Sem Páscoa(2011)', '270.Os Smurfs(2011)', '271.Os Smurfs 2(2013)', '272.Alvin e os Esquilos(2007)', '273.Força-G(2009)', '274.Garfield 2(2006)', '275.Garfield: O Filme(2004)', '276.Alvin e os Esquilos 2(2009)', '277.Alvin e os Esquilos 3(2011)', '278.Emoji: O Filme(2017)']\n"
     ]
    }
   ],
   "source": [
    "#criando loops para substituir quebra de linhas\n",
    "var1 = []\n",
    "for x in title1:\n",
    "    var1.append ((x.text).replace('\\n',''))\n",
    "print(var1)\n",
    "\n",
    "var2 = []\n",
    "for x in title2:\n",
    "    var2.append ((x.text).replace('\\n',''))\n",
    "print(var2)\n",
    "\n",
    "var3 = []\n",
    "for x in title3:\n",
    "    var3.append ((x.text).replace('\\n',''))\n",
    "print(var3)\n",
    "\n",
    "var4 = []\n",
    "for x in title4:\n",
    "    var4.append ((x.text).replace('\\n',''))\n",
    "print(var4)\n",
    "\n",
    "var5 = []\n",
    "for x in title5:\n",
    "    var5.append ((x.text).replace('\\n',''))\n",
    "print(var5)\n",
    "\n",
    "var6 = []\n",
    "for x in title6:\n",
    "    var6.append ((x.text).replace('\\n',''))\n",
    "print(var6)\n"
   ]
  },
  {
   "cell_type": "code",
   "execution_count": 109,
   "metadata": {
    "ExecuteTime": {
     "end_time": "2020-10-19T22:59:08.495599Z",
     "start_time": "2020-10-19T22:59:08.287641Z"
    }
   },
   "outputs": [],
   "source": [
    "#buscando as segundas tags dentro do HTML\n",
    "\n",
    "s1 = soup1.find_all('div', attrs={'class':'inline-block ratings-imdb-rating'})\n",
    "\n",
    "s2 = soup2.find_all('div', attrs={'class':'inline-block ratings-imdb-rating'})\n",
    "\n",
    "s3 = soup3.find_all('div', attrs={'class':'inline-block ratings-imdb-rating'})\n",
    "\n",
    "s4 = soup4.find_all('div', attrs={'class':'inline-block ratings-imdb-rating'})\n",
    "\n",
    "s5 = soup5.find_all('div', attrs={'class':'inline-block ratings-imdb-rating'})\n",
    "\n",
    "s6 = soup6.find_all('div', attrs={'class':'inline-block ratings-imdb-rating'})"
   ]
  },
  {
   "cell_type": "code",
   "execution_count": 110,
   "metadata": {
    "ExecuteTime": {
     "end_time": "2020-10-19T22:59:09.997641Z",
     "start_time": "2020-10-19T22:59:09.987630Z"
    }
   },
   "outputs": [],
   "source": [
    "score1 = []\n",
    "for x in s1:\n",
    "    s = float(x.text.replace('\\n',''))\n",
    "    score1.append(s)\n",
    "score2 = []\n",
    "for x in s2:\n",
    "    s = float(x.text.replace('\\n',''))\n",
    "    score2.append(s)\n",
    "score3 = []\n",
    "for x in s3:\n",
    "    s = float(x.text.replace('\\n',''))\n",
    "    score3.append(s)\n",
    "score4 = []\n",
    "for x in s4:\n",
    "    s = float(x.text.replace('\\n',''))\n",
    "    score4.append(s)\n",
    "score5 = []\n",
    "for x in s5:\n",
    "    s = float(x.text.replace('\\n',''))\n",
    "    score5.append(s)\n",
    "score6 = []\n",
    "for x in s6:\n",
    "    s = float(x.text.replace('\\n',''))\n",
    "    score6.append(s)"
   ]
  },
  {
   "cell_type": "code",
   "execution_count": 111,
   "metadata": {
    "ExecuteTime": {
     "end_time": "2020-10-19T22:59:11.498597Z",
     "start_time": "2020-10-19T22:59:11.494587Z"
    }
   },
   "outputs": [],
   "source": [
    "#buscando as terceiras tags dentro do HTML\n",
    "\n",
    "#ms1 = soup1.find_all('div', attrs={'class':'inline-block ratings-metascore'})\n",
    "\n",
    "#ms2 = soup2.find_all('div', attrs={'class':'inline-block ratings-metascore'})\n",
    "\n",
    "#ms3 = soup3.find_all('div', attrs={'class':'inline-block ratings-metascore'})\n",
    "\n",
    "#ms4 = soup4.find_all('div', attrs={'class':'inline-block ratings-metascore'})\n",
    "\n",
    "#ms5 = soup5.find_all('div', attrs={'class':'inline-block ratings-metascore'})\n",
    "\n",
    "#ms6 = soup6.find_all('div', attrs={'class':'inline-block ratings-metascore'})\n"
   ]
  },
  {
   "cell_type": "code",
   "execution_count": 112,
   "metadata": {
    "ExecuteTime": {
     "end_time": "2020-10-19T22:59:13.192779Z",
     "start_time": "2020-10-19T22:59:13.188789Z"
    }
   },
   "outputs": [],
   "source": [
    "#metascore1 = []\n",
    "#for x in ms1:\n",
    "#    s = (x.text.replace('\\n',''))\n",
    "#   metascore1.append(s)\n",
    "# metascore2 = []\n",
    "#for x in ms1:\n",
    "#   s = int(x.text.replace('\\n','')[0:3])\n",
    "#   metascore2.append(s)\n",
    "# metascore3 = []\n",
    "#for x in ms1:\n",
    "#   s = int(x.text.replace('\\n','')[0:3])\n",
    "#   metascore3.append(s)\n",
    "# metascore4 = []\n",
    "# for x in ms1:\n",
    "#  s = int(x.text.replace('\\n','')[0:3])\n",
    "#   metascore4.append(s)\n",
    "# metascore5 = []\n",
    "# for x in ms1:\n",
    "#    s = int(x.text.replace('\\n','')[0:3])\n",
    "#   metascore5.append(s)\n",
    "# metascore6 = []\n",
    "#for x in ms1:\n",
    "#   s = int(x.text.replace('\\n','')[0:3])\n",
    "#   metascore6.append(s)"
   ]
  },
  {
   "cell_type": "code",
   "execution_count": 113,
   "metadata": {
    "ExecuteTime": {
     "end_time": "2020-10-19T22:59:14.933092Z",
     "start_time": "2020-10-19T22:59:14.754453Z"
    }
   },
   "outputs": [],
   "source": [
    "#buscando as quartas tags dentro do HTML\n",
    "\n",
    "vg1 = soup1.find_all('p', attrs={'class':'sort-num_votes-visible'})\n",
    "\n",
    "vg2 = soup2.find_all('p', attrs={'class':'sort-num_votes-visible'})\n",
    "\n",
    "vg3 = soup3.find_all('p', attrs={'class':'sort-num_votes-visible'})\n",
    "\n",
    "vg4 = soup4.find_all('p', attrs={'class':'sort-num_votes-visible'})\n",
    "\n",
    "vg5 = soup5.find_all('p', attrs={'class':'sort-num_votes-visible'})\n",
    "\n",
    "vg6 = soup6.find_all('p', attrs={'class':'sort-num_votes-visible'})\n"
   ]
  },
  {
   "cell_type": "code",
   "execution_count": 114,
   "metadata": {
    "ExecuteTime": {
     "end_time": "2020-10-19T22:59:16.481856Z",
     "start_time": "2020-10-19T22:59:16.462905Z"
    }
   },
   "outputs": [],
   "source": [
    "#criando loops para limpar a tag de votos e gross\n",
    "votes1 = []\n",
    "gross1 = []\n",
    "for x in vg1:\n",
    "    s = re.sub('[^0-9$]','',x.text)\n",
    "    if not '$' in s:\n",
    "        s+='$0'\n",
    "    v,g = s.split('$')\n",
    "    votes1.append (v)\n",
    "    gross1.append (g)\n",
    "    \n",
    "votes2 = []\n",
    "gross2 = []\n",
    "for x in vg2:\n",
    "    s = re.sub('[^0-9$]','',x.text)\n",
    "    if not '$' in s:\n",
    "        s+='$0'\n",
    "    v,g = s.split('$')\n",
    "    votes2.append (v)\n",
    "    gross2.append (g)\n",
    "\n",
    "votes3 = []\n",
    "gross3 = []\n",
    "for x in vg3:\n",
    "    s = re.sub('[^0-9$]','',x.text)\n",
    "    if not '$' in s:\n",
    "        s+='$0'\n",
    "    v,g = s.split('$')\n",
    "    votes3.append (v)\n",
    "    gross3.append (g)\n",
    "    \n",
    "votes4 = []\n",
    "gross4 = []\n",
    "for x in vg4:\n",
    "    s = re.sub('[^0-9$]','',x.text)\n",
    "    if not '$' in s:\n",
    "        s+='$0'\n",
    "    v,g = s.split('$')\n",
    "    votes4.append (v)\n",
    "    gross4.append (g)\n",
    "\n",
    "votes5 = []\n",
    "gross5 = []\n",
    "for x in vg5:\n",
    "    s = re.sub('[^0-9$]','',x.text)\n",
    "    if not '$' in s:\n",
    "        s+='$0'\n",
    "    v,g = s.split('$')\n",
    "    votes5.append (v)\n",
    "    gross5.append (g)\n",
    "    \n",
    "votes6 = []\n",
    "gross6 = []\n",
    "for x in vg6:\n",
    "    s = re.sub('[^0-9$]','',x.text)\n",
    "    if not '$' in s:\n",
    "        s+='$0'\n",
    "    v,g = s.split('$')\n",
    "    votes6.append (v)\n",
    "    gross6.append (g)"
   ]
  },
  {
   "cell_type": "code",
   "execution_count": 115,
   "metadata": {
    "ExecuteTime": {
     "end_time": "2020-10-19T22:59:17.991985Z",
     "start_time": "2020-10-19T22:59:17.987996Z"
    }
   },
   "outputs": [],
   "source": [
    "import pandas as pd\n",
    "import numpy as np"
   ]
  },
  {
   "cell_type": "code",
   "execution_count": 116,
   "metadata": {
    "ExecuteTime": {
     "end_time": "2020-10-19T22:59:19.552531Z",
     "start_time": "2020-10-19T22:59:19.527597Z"
    }
   },
   "outputs": [
    {
     "data": {
      "text/html": [
       "<div>\n",
       "<style scoped>\n",
       "    .dataframe tbody tr th:only-of-type {\n",
       "        vertical-align: middle;\n",
       "    }\n",
       "\n",
       "    .dataframe tbody tr th {\n",
       "        vertical-align: top;\n",
       "    }\n",
       "\n",
       "    .dataframe thead th {\n",
       "        text-align: right;\n",
       "    }\n",
       "</style>\n",
       "<table border=\"1\" class=\"dataframe\">\n",
       "  <thead>\n",
       "    <tr style=\"text-align: right;\">\n",
       "      <th></th>\n",
       "      <th>titulo</th>\n",
       "      <th>score</th>\n",
       "      <th>votes</th>\n",
       "      <th>gross</th>\n",
       "    </tr>\n",
       "  </thead>\n",
       "  <tbody>\n",
       "    <tr>\n",
       "      <th>0</th>\n",
       "      <td>251.Bee Movie: A História de uma Abelha(2007)</td>\n",
       "      <td>6.1</td>\n",
       "      <td>139470</td>\n",
       "      <td>12663</td>\n",
       "    </tr>\n",
       "    <tr>\n",
       "      <th>1</th>\n",
       "      <td>252.Bob Esponja: Um Herói Fora d'Água(2015)</td>\n",
       "      <td>6.0</td>\n",
       "      <td>47871</td>\n",
       "      <td>16299</td>\n",
       "    </tr>\n",
       "    <tr>\n",
       "      <th>2</th>\n",
       "      <td>253.Planeta 51(2009)</td>\n",
       "      <td>6.0</td>\n",
       "      <td>50161</td>\n",
       "      <td>4209</td>\n",
       "    </tr>\n",
       "    <tr>\n",
       "      <th>3</th>\n",
       "      <td>254.Arthur e os Minimoys(2006)</td>\n",
       "      <td>6.0</td>\n",
       "      <td>32620</td>\n",
       "      <td>1513</td>\n",
       "    </tr>\n",
       "    <tr>\n",
       "      <th>4</th>\n",
       "      <td>255.O Espanta Tubarões(2004)</td>\n",
       "      <td>6.0</td>\n",
       "      <td>164742</td>\n",
       "      <td>16086</td>\n",
       "    </tr>\n",
       "    <tr>\n",
       "      <th>5</th>\n",
       "      <td>256.Jimmy Neutron, o Menino Gênio(2001)</td>\n",
       "      <td>6.0</td>\n",
       "      <td>30308</td>\n",
       "      <td>8094</td>\n",
       "    </tr>\n",
       "    <tr>\n",
       "      <th>6</th>\n",
       "      <td>257.Happy Feet 2: O Pinguim(2011)</td>\n",
       "      <td>5.9</td>\n",
       "      <td>41092</td>\n",
       "      <td>6401</td>\n",
       "    </tr>\n",
       "    <tr>\n",
       "      <th>7</th>\n",
       "      <td>258.Star Wars: A Guerra dos Clones(2008)</td>\n",
       "      <td>5.9</td>\n",
       "      <td>56067</td>\n",
       "      <td>3516</td>\n",
       "    </tr>\n",
       "    <tr>\n",
       "      <th>8</th>\n",
       "      <td>259.Gnomeu e Julieta(2011)</td>\n",
       "      <td>5.9</td>\n",
       "      <td>51761</td>\n",
       "      <td>9997</td>\n",
       "    </tr>\n",
       "    <tr>\n",
       "      <th>9</th>\n",
       "      <td>260.A Família Addams(2019)</td>\n",
       "      <td>5.8</td>\n",
       "      <td>25546</td>\n",
       "      <td>10004</td>\n",
       "    </tr>\n",
       "    <tr>\n",
       "      <th>10</th>\n",
       "      <td>261.Lucas, um Intruso no Formigueiro(2006)</td>\n",
       "      <td>5.8</td>\n",
       "      <td>36534</td>\n",
       "      <td>2814</td>\n",
       "    </tr>\n",
       "    <tr>\n",
       "      <th>11</th>\n",
       "      <td>262.A Era do Gelo: O Big Bang(2016)</td>\n",
       "      <td>5.7</td>\n",
       "      <td>55501</td>\n",
       "      <td>6406</td>\n",
       "    </tr>\n",
       "    <tr>\n",
       "      <th>12</th>\n",
       "      <td>263.O Que Será de Nozes?(I) (2014)</td>\n",
       "      <td>5.7</td>\n",
       "      <td>26279</td>\n",
       "      <td>6425</td>\n",
       "    </tr>\n",
       "    <tr>\n",
       "      <th>13</th>\n",
       "      <td>264.Aviões(2013)</td>\n",
       "      <td>5.7</td>\n",
       "      <td>41791</td>\n",
       "      <td>9029</td>\n",
       "    </tr>\n",
       "    <tr>\n",
       "      <th>14</th>\n",
       "      <td>265.O Galinho Chicken Little(2005)</td>\n",
       "      <td>5.7</td>\n",
       "      <td>84668</td>\n",
       "      <td>13539</td>\n",
       "    </tr>\n",
       "    <tr>\n",
       "      <th>15</th>\n",
       "      <td>266.Looney Tunes: De Volta à Ação(2003)</td>\n",
       "      <td>5.7</td>\n",
       "      <td>32641</td>\n",
       "      <td>2099</td>\n",
       "    </tr>\n",
       "    <tr>\n",
       "      <th>16</th>\n",
       "      <td>267.O Segredo dos Animais(2006)</td>\n",
       "      <td>5.5</td>\n",
       "      <td>27320</td>\n",
       "      <td>7278</td>\n",
       "    </tr>\n",
       "    <tr>\n",
       "      <th>17</th>\n",
       "      <td>268.O Pequeno Stuart Little 2(2002)</td>\n",
       "      <td>5.5</td>\n",
       "      <td>49600</td>\n",
       "      <td>6496</td>\n",
       "    </tr>\n",
       "    <tr>\n",
       "      <th>18</th>\n",
       "      <td>269.Hop: Rebelde Sem Páscoa(2011)</td>\n",
       "      <td>5.4</td>\n",
       "      <td>30900</td>\n",
       "      <td>10809</td>\n",
       "    </tr>\n",
       "    <tr>\n",
       "      <th>19</th>\n",
       "      <td>270.Os Smurfs(2011)</td>\n",
       "      <td>5.4</td>\n",
       "      <td>82669</td>\n",
       "      <td>14261</td>\n",
       "    </tr>\n",
       "    <tr>\n",
       "      <th>20</th>\n",
       "      <td>271.Os Smurfs 2(2013)</td>\n",
       "      <td>5.3</td>\n",
       "      <td>37325</td>\n",
       "      <td>7102</td>\n",
       "    </tr>\n",
       "    <tr>\n",
       "      <th>21</th>\n",
       "      <td>272.Alvin e os Esquilos(2007)</td>\n",
       "      <td>5.2</td>\n",
       "      <td>75414</td>\n",
       "      <td>21733</td>\n",
       "    </tr>\n",
       "    <tr>\n",
       "      <th>22</th>\n",
       "      <td>273.Força-G(2009)</td>\n",
       "      <td>5.1</td>\n",
       "      <td>42163</td>\n",
       "      <td>11944</td>\n",
       "    </tr>\n",
       "    <tr>\n",
       "      <th>23</th>\n",
       "      <td>274.Garfield 2(2006)</td>\n",
       "      <td>5.0</td>\n",
       "      <td>38289</td>\n",
       "      <td>2843</td>\n",
       "    </tr>\n",
       "    <tr>\n",
       "      <th>24</th>\n",
       "      <td>275.Garfield: O Filme(2004)</td>\n",
       "      <td>5.0</td>\n",
       "      <td>78129</td>\n",
       "      <td>7537</td>\n",
       "    </tr>\n",
       "    <tr>\n",
       "      <th>25</th>\n",
       "      <td>276.Alvin e os Esquilos 2(2009)</td>\n",
       "      <td>4.5</td>\n",
       "      <td>42906</td>\n",
       "      <td>21961</td>\n",
       "    </tr>\n",
       "    <tr>\n",
       "      <th>26</th>\n",
       "      <td>277.Alvin e os Esquilos 3(2011)</td>\n",
       "      <td>4.3</td>\n",
       "      <td>30868</td>\n",
       "      <td>13311</td>\n",
       "    </tr>\n",
       "    <tr>\n",
       "      <th>27</th>\n",
       "      <td>278.Emoji: O Filme(2017)</td>\n",
       "      <td>3.3</td>\n",
       "      <td>54701</td>\n",
       "      <td>8609</td>\n",
       "    </tr>\n",
       "  </tbody>\n",
       "</table>\n",
       "</div>"
      ],
      "text/plain": [
       "                                           titulo  score   votes  gross\n",
       "0   251.Bee Movie: A História de uma Abelha(2007)    6.1  139470  12663\n",
       "1     252.Bob Esponja: Um Herói Fora d'Água(2015)    6.0   47871  16299\n",
       "2                            253.Planeta 51(2009)    6.0   50161   4209\n",
       "3                  254.Arthur e os Minimoys(2006)    6.0   32620   1513\n",
       "4                    255.O Espanta Tubarões(2004)    6.0  164742  16086\n",
       "5         256.Jimmy Neutron, o Menino Gênio(2001)    6.0   30308   8094\n",
       "6               257.Happy Feet 2: O Pinguim(2011)    5.9   41092   6401\n",
       "7        258.Star Wars: A Guerra dos Clones(2008)    5.9   56067   3516\n",
       "8                      259.Gnomeu e Julieta(2011)    5.9   51761   9997\n",
       "9                      260.A Família Addams(2019)    5.8   25546  10004\n",
       "10     261.Lucas, um Intruso no Formigueiro(2006)    5.8   36534   2814\n",
       "11            262.A Era do Gelo: O Big Bang(2016)    5.7   55501   6406\n",
       "12             263.O Que Será de Nozes?(I) (2014)    5.7   26279   6425\n",
       "13                               264.Aviões(2013)    5.7   41791   9029\n",
       "14             265.O Galinho Chicken Little(2005)    5.7   84668  13539\n",
       "15        266.Looney Tunes: De Volta à Ação(2003)    5.7   32641   2099\n",
       "16                267.O Segredo dos Animais(2006)    5.5   27320   7278\n",
       "17            268.O Pequeno Stuart Little 2(2002)    5.5   49600   6496\n",
       "18              269.Hop: Rebelde Sem Páscoa(2011)    5.4   30900  10809\n",
       "19                            270.Os Smurfs(2011)    5.4   82669  14261\n",
       "20                          271.Os Smurfs 2(2013)    5.3   37325   7102\n",
       "21                  272.Alvin e os Esquilos(2007)    5.2   75414  21733\n",
       "22                              273.Força-G(2009)    5.1   42163  11944\n",
       "23                           274.Garfield 2(2006)    5.0   38289   2843\n",
       "24                    275.Garfield: O Filme(2004)    5.0   78129   7537\n",
       "25                276.Alvin e os Esquilos 2(2009)    4.5   42906  21961\n",
       "26                277.Alvin e os Esquilos 3(2011)    4.3   30868  13311\n",
       "27                       278.Emoji: O Filme(2017)    3.3   54701   8609"
      ]
     },
     "execution_count": 116,
     "metadata": {},
     "output_type": "execute_result"
    }
   ],
   "source": [
    "#criando dicionários\n",
    "pagina1 = {'titulo':var1,'score':score1,'votes':votes1,'gross':gross1}\n",
    "pagina2 = {'titulo':var2,'score':score2,'votes':votes2,'gross':gross2}\n",
    "pagina3 = {'titulo':var3,'score':score3,'votes':votes3,'gross':gross3}\n",
    "pagina4 = {'titulo':var4,'score':score4,'votes':votes4,'gross':gross4}\n",
    "pagina5 = {'titulo':var5,'score':score5,'votes':votes5,'gross':gross5}\n",
    "pagina6 = {'titulo':var6,'score':score6,'votes':votes6,'gross':gross6}\n",
    "\n",
    "# print (len(score1))\n",
    "# print (len(metascore1))\n",
    "# print (len(var1))\n",
    "\n",
    "mydataframe1 = pd.DataFrame(pagina1)\n",
    "\n",
    "mydataframe2 = pd.DataFrame(pagina2)\n",
    "mydataframe3 = pd.DataFrame(pagina3)\n",
    "mydataframe4 = pd.DataFrame(pagina4)\n",
    "mydataframe5 = pd.DataFrame(pagina5)\n",
    "mydataframe6 = pd.DataFrame(pagina6)\n",
    "mydataframe1\n",
    "mydataframe2\n",
    "mydataframe3\n",
    "mydataframe4\n",
    "mydataframe5\n",
    "mydataframe6"
   ]
  },
  {
   "cell_type": "code",
   "execution_count": 125,
   "metadata": {
    "ExecuteTime": {
     "end_time": "2020-10-19T23:05:49.333865Z",
     "start_time": "2020-10-19T23:05:49.321864Z"
    }
   },
   "outputs": [],
   "source": [
    "mydataframe1 = pd.DataFrame(pagina1)\n",
    "mydataframe1.append([mydataframe2, mydataframe3, mydataframe4, mydataframe5, mydataframe6])\n",
    "finaldataframe = mydataframe1.append([mydataframe2, mydataframe3, mydataframe4, mydataframe5, mydataframe6])"
   ]
  },
  {
   "cell_type": "code",
   "execution_count": 127,
   "metadata": {
    "ExecuteTime": {
     "end_time": "2020-10-19T23:10:05.382489Z",
     "start_time": "2020-10-19T23:10:05.373513Z"
    },
    "scrolled": false
   },
   "outputs": [],
   "source": [
    "finaldataframe.to_csv('final_scraping.csv', index=False, encoding='Latin-1')"
   ]
  },
  {
   "cell_type": "code",
   "execution_count": null,
   "metadata": {},
   "outputs": [],
   "source": []
  },
  {
   "cell_type": "code",
   "execution_count": 77,
   "metadata": {
    "ExecuteTime": {
     "end_time": "2020-10-17T15:48:06.909883Z",
     "start_time": "2020-10-17T15:48:06.903897Z"
    }
   },
   "outputs": [
    {
     "name": "stdout",
     "output_type": "stream",
     "text": [
      "Hello World!\n"
     ]
    }
   ],
   "source": [
    "print ('Hello World!')"
   ]
  },
  {
   "cell_type": "code",
   "execution_count": 78,
   "metadata": {
    "ExecuteTime": {
     "end_time": "2020-10-17T15:54:13.711690Z",
     "start_time": "2020-10-17T15:54:13.708735Z"
    }
   },
   "outputs": [
    {
     "name": "stdout",
     "output_type": "stream",
     "text": [
      "19\n"
     ]
    }
   ],
   "source": [
    "A = 10\n",
    "B = 9\n",
    "X = A + B\n",
    "print (X)"
   ]
  },
  {
   "cell_type": "code",
   "execution_count": 93,
   "metadata": {
    "ExecuteTime": {
     "end_time": "2020-10-17T19:33:22.310190Z",
     "start_time": "2020-10-17T19:33:22.305204Z"
    }
   },
   "outputs": [
    {
     "name": "stdout",
     "output_type": "stream",
     "text": [
      "X =  19\n",
      "\n",
      "\n"
     ]
    }
   ],
   "source": [
    "A = 10\n",
    "B = 9\n",
    "X = A + B\n",
    "print ('X = ', X)\n",
    "print ('\\n')\n"
   ]
  },
  {
   "cell_type": "code",
   "execution_count": 98,
   "metadata": {
    "ExecuteTime": {
     "end_time": "2020-10-17T19:39:13.289956Z",
     "start_time": "2020-10-17T19:39:13.285968Z"
    }
   },
   "outputs": [
    {
     "name": "stdout",
     "output_type": "stream",
     "text": [
      "X =  19 \n",
      "\n"
     ]
    }
   ],
   "source": [
    "a = 10\n",
    "b = 9\n",
    "X = a + b\n",
    "print (\"X = \",X,\"\\n\")\n"
   ]
  },
  {
   "cell_type": "code",
   "execution_count": 100,
   "metadata": {
    "ExecuteTime": {
     "end_time": "2020-10-19T22:43:37.596132Z",
     "start_time": "2020-10-19T22:43:34.974039Z"
    }
   },
   "outputs": [
    {
     "name": "stdout",
     "output_type": "stream",
     "text": [
      "10\n",
      "9\n",
      "X =  19\n"
     ]
    }
   ],
   "source": [
    "A = int(input())\n",
    "B = int(input())\n",
    "X = A + B\n",
    "print(\"X = \",X,)\n"
   ]
  },
  {
   "cell_type": "code",
   "execution_count": 1,
   "metadata": {
    "ExecuteTime": {
     "end_time": "2020-12-16T00:47:46.346455Z",
     "start_time": "2020-12-16T00:47:06.106404Z"
    }
   },
   "outputs": [
    {
     "name": "stdout",
     "output_type": "stream",
     "text": [
      "Collecting streamlitNote: you may need to restart the kernel to use updated packages.\n",
      "\n",
      "  Downloading streamlit-0.72.0-py2.py3-none-any.whl (7.4 MB)\n",
      "Collecting pydeck>=0.1.dev5\n",
      "  Downloading pydeck-0.5.0-py2.py3-none-any.whl (4.5 MB)\n",
      "Collecting astor\n",
      "  Downloading astor-0.8.1-py2.py3-none-any.whl (27 kB)\n",
      "Requirement already satisfied: pillow>=6.2.0 in c:\\users\\dnetto\\anaconda3\\lib\\site-packages (from streamlit) (7.0.0)\n",
      "Collecting blinker\n",
      "  Downloading blinker-1.4.tar.gz (111 kB)\n",
      "Requirement already satisfied: toml in c:\\users\\dnetto\\appdata\\roaming\\python\\python37\\site-packages (from streamlit) (0.10.2)\n",
      "Collecting altair>=3.2.0\n",
      "  Downloading altair-4.1.0-py3-none-any.whl (727 kB)\n",
      "Requirement already satisfied: watchdog in c:\\users\\dnetto\\anaconda3\\lib\\site-packages (from streamlit) (0.10.2)\n",
      "Requirement already satisfied: python-dateutil in c:\\users\\dnetto\\appdata\\roaming\\python\\python37\\site-packages (from streamlit) (2.8.1)\n",
      "Requirement already satisfied: requests in c:\\users\\dnetto\\anaconda3\\lib\\site-packages (from streamlit) (2.22.0)\n",
      "Collecting tzlocal\n",
      "  Downloading tzlocal-2.1-py2.py3-none-any.whl (16 kB)\n",
      "Requirement already satisfied: click>=7.0 in c:\\users\\dnetto\\anaconda3\\lib\\site-packages (from streamlit) (7.0)\n",
      "Requirement already satisfied: tornado>=5.0 in c:\\users\\dnetto\\appdata\\roaming\\python\\python37\\site-packages (from streamlit) (6.0.4)\n",
      "Collecting validators\n",
      "  Downloading validators-0.18.1-py3-none-any.whl (19 kB)\n",
      "Collecting gitpython\n",
      "  Downloading GitPython-3.1.11-py3-none-any.whl (159 kB)\n",
      "Requirement already satisfied: numpy in c:\\users\\dnetto\\anaconda3\\lib\\site-packages (from streamlit) (1.18.1)\n",
      "Collecting cachetools>=4.0\n",
      "  Downloading cachetools-4.2.0-py3-none-any.whl (12 kB)\n",
      "Requirement already satisfied: packaging in c:\\users\\dnetto\\anaconda3\\lib\\site-packages (from streamlit) (20.1)\n",
      "Collecting protobuf!=3.11,>=3.6.0\n",
      "  Downloading protobuf-3.14.0-cp37-cp37m-win_amd64.whl (798 kB)\n",
      "Collecting pyarrow\n",
      "  Downloading pyarrow-2.0.0-cp37-cp37m-win_amd64.whl (10.7 MB)\n",
      "Requirement already satisfied: pandas>=0.21.0 in c:\\users\\dnetto\\appdata\\roaming\\python\\python37\\site-packages (from streamlit) (1.1.0)\n",
      "Collecting base58\n",
      "  Downloading base58-2.0.1-py3-none-any.whl (4.3 kB)\n",
      "Requirement already satisfied: ipykernel>=5.1.2; python_version >= \"3.4\" in c:\\users\\dnetto\\appdata\\roaming\\python\\python37\\site-packages (from pydeck>=0.1.dev5->streamlit) (5.3.4)\n",
      "Requirement already satisfied: ipywidgets>=7.0.0 in c:\\users\\dnetto\\anaconda3\\lib\\site-packages (from pydeck>=0.1.dev5->streamlit) (7.5.1)\n",
      "Requirement already satisfied: traitlets>=4.3.2 in c:\\users\\dnetto\\appdata\\roaming\\python\\python37\\site-packages (from pydeck>=0.1.dev5->streamlit) (5.0.4)\n",
      "Requirement already satisfied: jinja2>=2.10.1 in c:\\users\\dnetto\\anaconda3\\lib\\site-packages (from pydeck>=0.1.dev5->streamlit) (2.11.1)\n",
      "Requirement already satisfied: entrypoints in c:\\users\\dnetto\\anaconda3\\lib\\site-packages (from altair>=3.2.0->streamlit) (0.3)\n",
      "Requirement already satisfied: jsonschema in c:\\users\\dnetto\\anaconda3\\lib\\site-packages (from altair>=3.2.0->streamlit) (3.2.0)\n",
      "Requirement already satisfied: toolz in c:\\users\\dnetto\\anaconda3\\lib\\site-packages (from altair>=3.2.0->streamlit) (0.10.0)\n",
      "Requirement already satisfied: pathtools>=0.1.1 in c:\\users\\dnetto\\anaconda3\\lib\\site-packages (from watchdog->streamlit) (0.1.2)\n",
      "Requirement already satisfied: six>=1.5 in c:\\users\\dnetto\\appdata\\roaming\\python\\python37\\site-packages (from python-dateutil->streamlit) (1.15.0)\n",
      "Requirement already satisfied: urllib3!=1.25.0,!=1.25.1,<1.26,>=1.21.1 in c:\\users\\dnetto\\anaconda3\\lib\\site-packages (from requests->streamlit) (1.25.8)\n",
      "Requirement already satisfied: idna<2.9,>=2.5 in c:\\users\\dnetto\\anaconda3\\lib\\site-packages (from requests->streamlit) (2.8)\n",
      "Requirement already satisfied: certifi>=2017.4.17 in c:\\users\\dnetto\\anaconda3\\lib\\site-packages (from requests->streamlit) (2019.11.28)\n",
      "Requirement already satisfied: chardet<3.1.0,>=3.0.2 in c:\\users\\dnetto\\anaconda3\\lib\\site-packages (from requests->streamlit) (3.0.4)\n",
      "Requirement already satisfied: pytz in c:\\users\\dnetto\\anaconda3\\lib\\site-packages (from tzlocal->streamlit) (2019.3)\n",
      "Requirement already satisfied: decorator>=3.4.0 in c:\\users\\dnetto\\appdata\\roaming\\python\\python37\\site-packages (from validators->streamlit) (4.4.2)\n",
      "Collecting gitdb<5,>=4.0.1\n",
      "  Downloading gitdb-4.0.5-py3-none-any.whl (63 kB)\n",
      "Requirement already satisfied: pyparsing>=2.0.2 in c:\\users\\dnetto\\anaconda3\\lib\\site-packages (from packaging->streamlit) (2.4.6)\n",
      "Requirement already satisfied: ipython>=5.0.0 in c:\\users\\dnetto\\appdata\\roaming\\python\\python37\\site-packages (from ipykernel>=5.1.2; python_version >= \"3.4\"->pydeck>=0.1.dev5->streamlit) (7.18.1)\n",
      "Requirement already satisfied: jupyter-client in c:\\users\\dnetto\\appdata\\roaming\\python\\python37\\site-packages (from ipykernel>=5.1.2; python_version >= \"3.4\"->pydeck>=0.1.dev5->streamlit) (6.1.7)\n",
      "Requirement already satisfied: nbformat>=4.2.0 in c:\\users\\dnetto\\anaconda3\\lib\\site-packages (from ipywidgets>=7.0.0->pydeck>=0.1.dev5->streamlit) (5.0.4)\n",
      "Requirement already satisfied: widgetsnbextension~=3.5.0 in c:\\users\\dnetto\\anaconda3\\lib\\site-packages (from ipywidgets>=7.0.0->pydeck>=0.1.dev5->streamlit) (3.5.1)\n",
      "Requirement already satisfied: ipython-genutils in c:\\users\\dnetto\\appdata\\roaming\\python\\python37\\site-packages (from traitlets>=4.3.2->pydeck>=0.1.dev5->streamlit) (0.2.0)\n",
      "Requirement already satisfied: MarkupSafe>=0.23 in c:\\users\\dnetto\\anaconda3\\lib\\site-packages (from jinja2>=2.10.1->pydeck>=0.1.dev5->streamlit) (1.1.1)\n",
      "Requirement already satisfied: pyrsistent>=0.14.0 in c:\\users\\dnetto\\anaconda3\\lib\\site-packages (from jsonschema->altair>=3.2.0->streamlit) (0.15.7)\n",
      "Requirement already satisfied: attrs>=17.4.0 in c:\\users\\dnetto\\anaconda3\\lib\\site-packages (from jsonschema->altair>=3.2.0->streamlit) (19.3.0)\n",
      "Requirement already satisfied: setuptools in c:\\users\\dnetto\\anaconda3\\lib\\site-packages (from jsonschema->altair>=3.2.0->streamlit) (45.2.0.post20200210)\n",
      "Requirement already satisfied: importlib-metadata; python_version < \"3.8\" in c:\\users\\dnetto\\anaconda3\\lib\\site-packages (from jsonschema->altair>=3.2.0->streamlit) (1.5.0)\n",
      "Collecting smmap<4,>=3.0.1\n",
      "  Downloading smmap-3.0.4-py2.py3-none-any.whl (25 kB)\n",
      "Requirement already satisfied: colorama; sys_platform == \"win32\" in c:\\users\\dnetto\\appdata\\roaming\\python\\python37\\site-packages (from ipython>=5.0.0->ipykernel>=5.1.2; python_version >= \"3.4\"->pydeck>=0.1.dev5->streamlit) (0.4.4)\n",
      "Requirement already satisfied: pygments in c:\\users\\dnetto\\appdata\\roaming\\python\\python37\\site-packages (from ipython>=5.0.0->ipykernel>=5.1.2; python_version >= \"3.4\"->pydeck>=0.1.dev5->streamlit) (2.7.1)\n",
      "Requirement already satisfied: backcall in c:\\users\\dnetto\\appdata\\roaming\\python\\python37\\site-packages (from ipython>=5.0.0->ipykernel>=5.1.2; python_version >= \"3.4\"->pydeck>=0.1.dev5->streamlit) (0.2.0)\n",
      "Requirement already satisfied: pickleshare in c:\\users\\dnetto\\appdata\\roaming\\python\\python37\\site-packages (from ipython>=5.0.0->ipykernel>=5.1.2; python_version >= \"3.4\"->pydeck>=0.1.dev5->streamlit) (0.7.5)\n",
      "Requirement already satisfied: jedi>=0.10 in c:\\users\\dnetto\\appdata\\roaming\\python\\python37\\site-packages (from ipython>=5.0.0->ipykernel>=5.1.2; python_version >= \"3.4\"->pydeck>=0.1.dev5->streamlit) (0.17.2)\n",
      "Requirement already satisfied: prompt-toolkit!=3.0.0,!=3.0.1,<3.1.0,>=2.0.0 in c:\\users\\dnetto\\appdata\\roaming\\python\\python37\\site-packages (from ipython>=5.0.0->ipykernel>=5.1.2; python_version >= \"3.4\"->pydeck>=0.1.dev5->streamlit) (3.0.8)\n",
      "Requirement already satisfied: pyzmq>=13 in c:\\users\\dnetto\\appdata\\roaming\\python\\python37\\site-packages (from jupyter-client->ipykernel>=5.1.2; python_version >= \"3.4\"->pydeck>=0.1.dev5->streamlit) (19.0.2)\n",
      "Requirement already satisfied: jupyter-core>=4.6.0 in c:\\users\\dnetto\\appdata\\roaming\\python\\python37\\site-packages (from jupyter-client->ipykernel>=5.1.2; python_version >= \"3.4\"->pydeck>=0.1.dev5->streamlit) (4.6.3)\n",
      "Requirement already satisfied: notebook>=4.4.1 in c:\\users\\dnetto\\anaconda3\\lib\\site-packages (from widgetsnbextension~=3.5.0->ipywidgets>=7.0.0->pydeck>=0.1.dev5->streamlit) (6.0.3)\n",
      "Requirement already satisfied: zipp>=0.5 in c:\\users\\dnetto\\anaconda3\\lib\\site-packages (from importlib-metadata; python_version < \"3.8\"->jsonschema->altair>=3.2.0->streamlit) (2.2.0)\n",
      "Requirement already satisfied: parso<0.8.0,>=0.7.0 in c:\\users\\dnetto\\appdata\\roaming\\python\\python37\\site-packages (from jedi>=0.10->ipython>=5.0.0->ipykernel>=5.1.2; python_version >= \"3.4\"->pydeck>=0.1.dev5->streamlit) (0.7.1)\n",
      "Requirement already satisfied: wcwidth in c:\\users\\dnetto\\appdata\\roaming\\python\\python37\\site-packages (from prompt-toolkit!=3.0.0,!=3.0.1,<3.1.0,>=2.0.0->ipython>=5.0.0->ipykernel>=5.1.2; python_version >= \"3.4\"->pydeck>=0.1.dev5->streamlit) (0.2.5)\n",
      "Requirement already satisfied: pywin32>=1.0; sys_platform == \"win32\" in c:\\users\\dnetto\\appdata\\roaming\\python\\python37\\site-packages (from jupyter-core>=4.6.0->jupyter-client->ipykernel>=5.1.2; python_version >= \"3.4\"->pydeck>=0.1.dev5->streamlit) (228)\n",
      "Requirement already satisfied: Send2Trash in c:\\users\\dnetto\\anaconda3\\lib\\site-packages (from notebook>=4.4.1->widgetsnbextension~=3.5.0->ipywidgets>=7.0.0->pydeck>=0.1.dev5->streamlit) (1.5.0)\n",
      "Requirement already satisfied: prometheus-client in c:\\users\\dnetto\\anaconda3\\lib\\site-packages (from notebook>=4.4.1->widgetsnbextension~=3.5.0->ipywidgets>=7.0.0->pydeck>=0.1.dev5->streamlit) (0.7.1)\n",
      "Requirement already satisfied: terminado>=0.8.1 in c:\\users\\dnetto\\anaconda3\\lib\\site-packages (from notebook>=4.4.1->widgetsnbextension~=3.5.0->ipywidgets>=7.0.0->pydeck>=0.1.dev5->streamlit) (0.8.3)\n",
      "Requirement already satisfied: nbconvert in c:\\users\\dnetto\\anaconda3\\lib\\site-packages (from notebook>=4.4.1->widgetsnbextension~=3.5.0->ipywidgets>=7.0.0->pydeck>=0.1.dev5->streamlit) (5.6.1)\n",
      "Requirement already satisfied: pandocfilters>=1.4.1 in c:\\users\\dnetto\\anaconda3\\lib\\site-packages (from nbconvert->notebook>=4.4.1->widgetsnbextension~=3.5.0->ipywidgets>=7.0.0->pydeck>=0.1.dev5->streamlit) (1.4.2)\n",
      "Requirement already satisfied: bleach in c:\\users\\dnetto\\anaconda3\\lib\\site-packages (from nbconvert->notebook>=4.4.1->widgetsnbextension~=3.5.0->ipywidgets>=7.0.0->pydeck>=0.1.dev5->streamlit) (3.1.0)\n",
      "Requirement already satisfied: mistune<2,>=0.8.1 in c:\\users\\dnetto\\anaconda3\\lib\\site-packages (from nbconvert->notebook>=4.4.1->widgetsnbextension~=3.5.0->ipywidgets>=7.0.0->pydeck>=0.1.dev5->streamlit) (0.8.4)\n",
      "Requirement already satisfied: testpath in c:\\users\\dnetto\\anaconda3\\lib\\site-packages (from nbconvert->notebook>=4.4.1->widgetsnbextension~=3.5.0->ipywidgets>=7.0.0->pydeck>=0.1.dev5->streamlit) (0.4.4)\n",
      "Requirement already satisfied: defusedxml in c:\\users\\dnetto\\anaconda3\\lib\\site-packages (from nbconvert->notebook>=4.4.1->widgetsnbextension~=3.5.0->ipywidgets>=7.0.0->pydeck>=0.1.dev5->streamlit) (0.6.0)\n",
      "Requirement already satisfied: webencodings in c:\\users\\dnetto\\anaconda3\\lib\\site-packages (from bleach->nbconvert->notebook>=4.4.1->widgetsnbextension~=3.5.0->ipywidgets>=7.0.0->pydeck>=0.1.dev5->streamlit) (0.5.1)\n",
      "Building wheels for collected packages: blinker\n",
      "  Building wheel for blinker (setup.py): started\n",
      "  Building wheel for blinker (setup.py): finished with status 'done'\n",
      "  Created wheel for blinker: filename=blinker-1.4-py3-none-any.whl size=13455 sha256=ef04a94d47faba0fc56a924e650ae7254a0c29833bebe9812d63922ba25eb164\n",
      "  Stored in directory: c:\\users\\dnetto\\appdata\\local\\pip\\cache\\wheels\\22\\f5\\18\\df711b66eb25b21325c132757d4314db9ac5e8dabeaf196eab\n",
      "Successfully built blinker\n",
      "Installing collected packages: pydeck, astor, blinker, altair, tzlocal, validators, smmap, gitdb, gitpython, cachetools, protobuf, pyarrow, base58, streamlit\n",
      "Successfully installed altair-4.1.0 astor-0.8.1 base58-2.0.1 blinker-1.4 cachetools-4.2.0 gitdb-4.0.5 gitpython-3.1.11 protobuf-3.14.0 pyarrow-2.0.0 pydeck-0.5.0 smmap-3.0.4 streamlit-0.72.0 tzlocal-2.1 validators-0.18.1\n"
     ]
    }
   ],
   "source": [
    "pip install streamlit"
   ]
  },
  {
   "cell_type": "code",
   "execution_count": null,
   "metadata": {},
   "outputs": [],
   "source": []
  }
 ],
 "metadata": {
  "kernelspec": {
   "display_name": "Python 3",
   "language": "python",
   "name": "python3"
  },
  "language_info": {
   "codemirror_mode": {
    "name": "ipython",
    "version": 3
   },
   "file_extension": ".py",
   "mimetype": "text/x-python",
   "name": "python",
   "nbconvert_exporter": "python",
   "pygments_lexer": "ipython3",
   "version": "3.7.6"
  },
  "toc": {
   "base_numbering": 1,
   "nav_menu": {},
   "number_sections": true,
   "sideBar": true,
   "skip_h1_title": false,
   "title_cell": "Table of Contents",
   "title_sidebar": "Contents",
   "toc_cell": false,
   "toc_position": {},
   "toc_section_display": true,
   "toc_window_display": false
  },
  "varInspector": {
   "cols": {
    "lenName": 16,
    "lenType": 16,
    "lenVar": 40
   },
   "kernels_config": {
    "python": {
     "delete_cmd_postfix": "",
     "delete_cmd_prefix": "del ",
     "library": "var_list.py",
     "varRefreshCmd": "print(var_dic_list())"
    },
    "r": {
     "delete_cmd_postfix": ") ",
     "delete_cmd_prefix": "rm(",
     "library": "var_list.r",
     "varRefreshCmd": "cat(var_dic_list()) "
    }
   },
   "types_to_exclude": [
    "module",
    "function",
    "builtin_function_or_method",
    "instance",
    "_Feature"
   ],
   "window_display": false
  }
 },
 "nbformat": 4,
 "nbformat_minor": 2
}
